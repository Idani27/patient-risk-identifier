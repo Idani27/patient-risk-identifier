{
 "cells": [
  {
   "cell_type": "code",
   "execution_count": 9,
   "id": "545f85ed-6609-4919-921e-0184ec532d37",
   "metadata": {},
   "outputs": [
    {
     "name": "stdout",
     "output_type": "stream",
     "text": [
      "<class 'pandas.core.frame.DataFrame'>\n",
      "RangeIndex: 101 entries, 0 to 100\n",
      "Data columns (total 11 columns):\n",
      " #   Column                                        Non-Null Count  Dtype         \n",
      "---  ------                                        --------------  -----         \n",
      " 0   Timestamp                                     101 non-null    datetime64[ns]\n",
      " 1   Choose your gender                            101 non-null    object        \n",
      " 2   Age                                           100 non-null    float64       \n",
      " 3   What is your course?                          101 non-null    object        \n",
      " 4   Your current year of Study                    101 non-null    object        \n",
      " 5   What is your CGPA?                            101 non-null    object        \n",
      " 6   Marital status                                101 non-null    object        \n",
      " 7   Do you have Depression?                       101 non-null    object        \n",
      " 8   Do you have Anxiety?                          101 non-null    object        \n",
      " 9   Do you have Panic attack?                     101 non-null    object        \n",
      " 10  Did you seek any specialist for a treatment?  101 non-null    object        \n",
      "dtypes: datetime64[ns](1), float64(1), object(9)\n",
      "memory usage: 8.8+ KB\n"
     ]
    },
    {
     "data": {
      "text/plain": [
       "(None,\n",
       "             Timestamp Choose your gender   Age What is your course?  \\\n",
       " 0 2020-07-08 12:02:00             Female  18.0          Engineering   \n",
       " 1 2020-07-08 12:04:00               Male  21.0    Islamic education   \n",
       " 2 2020-07-08 12:05:00               Male  19.0                  BIT   \n",
       " 3 2020-07-08 12:06:00             Female  22.0                 Laws   \n",
       " 4 2020-07-08 12:13:00               Male  23.0         Mathemathics   \n",
       " \n",
       "   Your current year of Study What is your CGPA? Marital status  \\\n",
       " 0                     year 1        3.00 - 3.49             No   \n",
       " 1                     year 2        3.00 - 3.49             No   \n",
       " 2                     Year 1        3.00 - 3.49             No   \n",
       " 3                     year 3        3.00 - 3.49            Yes   \n",
       " 4                     year 4        3.00 - 3.49             No   \n",
       " \n",
       "   Do you have Depression? Do you have Anxiety? Do you have Panic attack?  \\\n",
       " 0                     Yes                   No                       Yes   \n",
       " 1                      No                  Yes                        No   \n",
       " 2                     Yes                  Yes                       Yes   \n",
       " 3                     Yes                   No                        No   \n",
       " 4                      No                   No                        No   \n",
       " \n",
       "   Did you seek any specialist for a treatment?  \n",
       " 0                                           No  \n",
       " 1                                           No  \n",
       " 2                                           No  \n",
       " 3                                           No  \n",
       " 4                                           No  )"
      ]
     },
     "execution_count": 9,
     "metadata": {},
     "output_type": "execute_result"
    }
   ],
   "source": [
    "import pandas as pd\n",
    "import numpy as np\n",
    "\n",
    "# Load the Excel file\n",
    "file_path = \"Student Mental health.csv.xlsx\"\n",
    "df = pd.read_excel(file_path)\n",
    "\n",
    "# Show the structure and first few rows\n",
    "df.info(), df.head()\n"
   ]
  },
  {
   "cell_type": "code",
   "execution_count": 5,
   "id": "723d107d-8561-4aff-985b-4060827a5b9b",
   "metadata": {
    "scrolled": true
   },
   "outputs": [
    {
     "name": "stdout",
     "output_type": "stream",
     "text": [
      "<class 'pandas.core.frame.DataFrame'>\n",
      "RangeIndex: 101 entries, 0 to 100\n",
      "Data columns (total 11 columns):\n",
      " #   Column                                        Non-Null Count  Dtype         \n",
      "---  ------                                        --------------  -----         \n",
      " 0   Timestamp                                     101 non-null    datetime64[ns]\n",
      " 1   Choose your gender                            101 non-null    object        \n",
      " 2   Age                                           100 non-null    float64       \n",
      " 3   What is your course?                          101 non-null    object        \n",
      " 4   Your current year of Study                    101 non-null    object        \n",
      " 5   What is your CGPA?                            101 non-null    object        \n",
      " 6   Marital status                                101 non-null    object        \n",
      " 7   Do you have Depression?                       101 non-null    object        \n",
      " 8   Do you have Anxiety?                          101 non-null    object        \n",
      " 9   Do you have Panic attack?                     101 non-null    object        \n",
      " 10  Did you seek any specialist for a treatment?  101 non-null    object        \n",
      "dtypes: datetime64[ns](1), float64(1), object(9)\n",
      "memory usage: 8.8+ KB\n"
     ]
    },
    {
     "data": {
      "text/plain": [
       "Timestamp                                       0\n",
       "Choose your gender                              0\n",
       "Age                                             1\n",
       "What is your course?                            0\n",
       "Your current year of Study                      0\n",
       "What is your CGPA?                              0\n",
       "Marital status                                  0\n",
       "Do you have Depression?                         0\n",
       "Do you have Anxiety?                            0\n",
       "Do you have Panic attack?                       0\n",
       "Did you seek any specialist for a treatment?    0\n",
       "dtype: int64"
      ]
     },
     "execution_count": 5,
     "metadata": {},
     "output_type": "execute_result"
    }
   ],
   "source": [
    "df.info()\n",
    "df.describe(include='all')\n",
    "df.isnull().sum()\n"
   ]
  },
  {
   "cell_type": "code",
   "execution_count": 17,
   "id": "901b500f-24a5-475c-93f1-b9a0fb05f9bc",
   "metadata": {},
   "outputs": [],
   "source": [
    "df.replace(['', ' ', '-', 'N/A', None], np.nan, inplace=True)"
   ]
  },
  {
   "cell_type": "code",
   "execution_count": 23,
   "id": "0c336b14-1997-4d0e-a6ff-79991ec25ed8",
   "metadata": {},
   "outputs": [],
   "source": [
    "df = df.dropna()"
   ]
  },
  {
   "cell_type": "code",
   "execution_count": 25,
   "id": "ca222e92-1b87-4961-8746-74a519687cf8",
   "metadata": {
    "scrolled": true
   },
   "outputs": [
    {
     "data": {
      "text/plain": [
       "Timestamp                                       0\n",
       "Choose your gender                              0\n",
       "Age                                             0\n",
       "What is your course?                            0\n",
       "Your current year of Study                      0\n",
       "What is your CGPA?                              0\n",
       "Marital status                                  0\n",
       "Do you have Depression?                         0\n",
       "Do you have Anxiety?                            0\n",
       "Do you have Panic attack?                       0\n",
       "Did you seek any specialist for a treatment?    0\n",
       "dtype: int64"
      ]
     },
     "execution_count": 25,
     "metadata": {},
     "output_type": "execute_result"
    }
   ],
   "source": [
    "df.isnull().sum()"
   ]
  },
  {
   "cell_type": "code",
   "execution_count": 34,
   "id": "4996da0b-3b71-4042-a397-379f2f55eea8",
   "metadata": {},
   "outputs": [
    {
     "name": "stdout",
     "output_type": "stream",
     "text": [
      "Total rows: 100\n",
      "Total columns: 11\n"
     ]
    }
   ],
   "source": [
    "num_rows = df.shape[0]\n",
    "print(f\"Total rows: {num_rows}\")\n",
    "num_rows = df.shape[1]\n",
    "print(f\"Total columns: {num_rows}\")"
   ]
  },
  {
   "cell_type": "markdown",
   "id": "e00c5a86-ac9c-4a6e-8f17-6dd2b805f414",
   "metadata": {},
   "source": [
    "## At risk evaluation"
   ]
  },
  {
   "cell_type": "code",
   "execution_count": 37,
   "id": "8f2a7c9d-859a-4689-84c5-a94b5db99b39",
   "metadata": {},
   "outputs": [
    {
     "data": {
      "text/plain": [
       "Risk_Label\n",
       "1    58\n",
       "0    42\n",
       "Name: count, dtype: int64"
      ]
     },
     "execution_count": 37,
     "metadata": {},
     "output_type": "execute_result"
    }
   ],
   "source": [
    "# Convert text to binary (1 = Yes, 0 = No)\n",
    "df['Depression'] = df['Do you have Depression?'].map({'Yes': 1, 'No': 0})\n",
    "df['Anxiety'] = df['Do you have Anxiety?'].map({'Yes': 1, 'No': 0})\n",
    "df['Panic'] = df['Do you have Panic attack?'].map({'Yes': 1, 'No': 0})\n",
    "df['Sought_Treatment'] = df['Did you seek any specialist for a treatment?'].map({'Yes': 1, 'No': 0})\n",
    "\n",
    "# Define risk label: has mental health condition(s) but did not seek help\n",
    "df['Risk_Label'] = (\n",
    "    ((df['Depression'] == 1) | (df['Anxiety'] == 1) | (df['Panic'] == 1)) &\n",
    "    (df['Sought_Treatment'] == 0)\n",
    ").astype(int)\n",
    "\n",
    "# Check the distribution\n",
    "df['Risk_Label'].value_counts()\n"
   ]
  },
  {
   "cell_type": "code",
   "execution_count": 39,
   "id": "4741cebb-b680-4a44-a262-c7855af13a12",
   "metadata": {},
   "outputs": [
    {
     "name": "stdout",
     "output_type": "stream",
     "text": [
      "🔍 Classification Report:\n",
      "\n",
      "              precision    recall  f1-score   support\n",
      "\n",
      "           0       1.00      1.00      1.00        11\n",
      "           1       1.00      1.00      1.00         9\n",
      "\n",
      "    accuracy                           1.00        20\n",
      "   macro avg       1.00      1.00      1.00        20\n",
      "weighted avg       1.00      1.00      1.00        20\n",
      "\n",
      "📊 Confusion Matrix:\n",
      "[[11  0]\n",
      " [ 0  9]]\n"
     ]
    }
   ],
   "source": [
    "# Step 1: Prepare dataset (after Risk_Label creation)\n",
    "features = ['Depression', 'Anxiety', 'Panic', 'Sought_Treatment']\n",
    "X = df[features]\n",
    "y = df['Risk_Label']\n",
    "\n",
    "# Step 2: Train/Test Split\n",
    "from sklearn.model_selection import train_test_split\n",
    "X_train, X_test, y_train, y_test = train_test_split(X, y, test_size=0.2, random_state=42)\n",
    "\n",
    "# Step 3: Model Training\n",
    "from sklearn.ensemble import RandomForestClassifier\n",
    "model = RandomForestClassifier(random_state=42)\n",
    "model.fit(X_train, y_train)\n",
    "\n",
    "# Step 4: Prediction & Evaluation\n",
    "from sklearn.metrics import classification_report, confusion_matrix\n",
    "\n",
    "y_pred = model.predict(X_test)\n",
    "\n",
    "print(\"🔍 Classification Report:\\n\")\n",
    "print(classification_report(y_test, y_pred))\n",
    "\n",
    "print(\"📊 Confusion Matrix:\")\n",
    "print(confusion_matrix(y_test, y_pred))\n"
   ]
  },
  {
   "cell_type": "code",
   "execution_count": 43,
   "id": "1ecf7340-049b-452c-ab5f-89dc4020ce6b",
   "metadata": {},
   "outputs": [
    {
     "name": "stdout",
     "output_type": "stream",
     "text": [
      "🔍 Logistic Regression - Classification Report:\n",
      "\n",
      "              precision    recall  f1-score   support\n",
      "\n",
      "           0       1.00      0.73      0.84        11\n",
      "           1       0.75      1.00      0.86         9\n",
      "\n",
      "    accuracy                           0.85        20\n",
      "   macro avg       0.88      0.86      0.85        20\n",
      "weighted avg       0.89      0.85      0.85        20\n",
      "\n",
      "📊 Logistic Regression - Confusion Matrix:\n",
      "[[8 3]\n",
      " [0 9]]\n"
     ]
    }
   ],
   "source": [
    "from sklearn.linear_model import LogisticRegression\n",
    "from sklearn.metrics import classification_report, confusion_matrix\n",
    "\n",
    "# Step 1: Train Logistic Regression\n",
    "log_model = LogisticRegression()\n",
    "log_model.fit(X_train, y_train)\n",
    "\n",
    "# Step 2: Predict\n",
    "y_pred_log = log_model.predict(X_test)\n",
    "\n",
    "# Step 3: Evaluate\n",
    "print(\"🔍 Logistic Regression - Classification Report:\\n\")\n",
    "print(classification_report(y_test, y_pred_log))\n",
    "\n",
    "print(\"📊 Logistic Regression - Confusion Matrix:\")\n",
    "print(confusion_matrix(y_test, y_pred_log))\n"
   ]
  },
  {
   "cell_type": "code",
   "execution_count": 45,
   "id": "c1fcb1e1-ad94-442c-9ddb-623642aa4ea5",
   "metadata": {},
   "outputs": [
    {
     "data": {
      "text/plain": [
       "['suicide_risk_model.pkl']"
      ]
     },
     "execution_count": 45,
     "metadata": {},
     "output_type": "execute_result"
    }
   ],
   "source": [
    "import joblib\n",
    "\n",
    "# Save the logistic regression model\n",
    "joblib.dump(log_model, 'suicide_risk_model.pkl')\n"
   ]
  },
  {
   "cell_type": "code",
   "execution_count": null,
   "id": "96129f63-b4fd-4446-9f1d-13e839b6a1fc",
   "metadata": {},
   "outputs": [],
   "source": []
  },
  {
   "cell_type": "code",
   "execution_count": null,
   "id": "e7523795-4e6a-4d5d-b4d7-049fa347a61c",
   "metadata": {},
   "outputs": [],
   "source": []
  },
  {
   "cell_type": "code",
   "execution_count": null,
   "id": "215e6d82-ea9f-4b38-bbef-b3d4debfe5ff",
   "metadata": {},
   "outputs": [],
   "source": []
  },
  {
   "cell_type": "code",
   "execution_count": null,
   "id": "242537b0-f266-4253-b618-efb18ccc89cb",
   "metadata": {},
   "outputs": [],
   "source": []
  },
  {
   "cell_type": "code",
   "execution_count": null,
   "id": "a2d3138c-a63f-40ce-98ae-9e88cd5a73c2",
   "metadata": {},
   "outputs": [],
   "source": []
  }
 ],
 "metadata": {
  "kernelspec": {
   "display_name": "Python [conda env:base] *",
   "language": "python",
   "name": "conda-base-py"
  },
  "language_info": {
   "codemirror_mode": {
    "name": "ipython",
    "version": 3
   },
   "file_extension": ".py",
   "mimetype": "text/x-python",
   "name": "python",
   "nbconvert_exporter": "python",
   "pygments_lexer": "ipython3",
   "version": "3.12.7"
  }
 },
 "nbformat": 4,
 "nbformat_minor": 5
}
